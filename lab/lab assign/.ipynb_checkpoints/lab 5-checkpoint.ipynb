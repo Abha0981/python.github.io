{
 "cells": [
  {
   "cell_type": "markdown",
   "id": "2db17398",
   "metadata": {},
   "source": [
    "# Lab Assignment 5\n"
   ]
  },
  {
   "cell_type": "code",
   "execution_count": 4,
   "id": "c9edbe7d",
   "metadata": {},
   "outputs": [
    {
     "name": "stdout",
     "output_type": "stream",
     "text": [
      "1505\n",
      "1540\n",
      "1575\n",
      "1610\n",
      "1645\n",
      "1680\n",
      "1715\n",
      "1750\n",
      "1785\n",
      "1820\n",
      "1855\n",
      "1890\n",
      "1925\n",
      "1960\n",
      "1995\n",
      "2030\n",
      "2065\n",
      "2100\n",
      "2135\n",
      "2170\n",
      "2205\n",
      "2240\n",
      "2275\n",
      "2310\n",
      "2345\n",
      "2380\n",
      "2415\n",
      "2450\n",
      "2485\n",
      "2520\n",
      "2555\n",
      "2590\n",
      "2625\n",
      "2660\n",
      "2695\n"
     ]
    }
   ],
   "source": [
    "#Q1\n",
    "for i in range(1500 , 2700 ):\n",
    "    if(i%5==0 and i%7==0 and i%5==0 and i%7==0):\n",
    "        print(i)\n",
    "    "
   ]
  },
  {
   "cell_type": "code",
   "execution_count": 36,
   "id": "559dd6c9",
   "metadata": {},
   "outputs": [
    {
     "name": "stdout",
     "output_type": "stream",
     "text": [
      "Enter temprature = 45f\n",
      "27.4 C\n"
     ]
    }
   ],
   "source": [
    "#Q2\n",
    "x=str(input(\"Enter temprature = \"))\n",
    "if(x[-1]=='c'or x[-1]=='C'):\n",
    "    f=int(x[:-1])*1.8+32\n",
    "    print(f,\"F\")\n",
    "if(x[-1]=='f'or x[-1]=='F'):\n",
    "    c=int(x[:-1])-32*0.55\n",
    "    print(c,\"C\")\n",
    "    \n",
    "    \n",
    "    \n",
    "\n",
    "    "
   ]
  },
  {
   "cell_type": "code",
   "execution_count": 71,
   "id": "6a430c17",
   "metadata": {},
   "outputs": [
    {
     "name": "stdout",
     "output_type": "stream",
     "text": [
      "* \n",
      "\n",
      "* * \n",
      "\n",
      "* * * \n",
      "\n",
      "* * * * \n",
      "\n",
      "* * * * * \n",
      "\n",
      "* * * * \n",
      "\n",
      "* * * \n",
      "\n",
      "* * \n",
      "\n",
      "* \n",
      "\n",
      "\n",
      "\n"
     ]
    }
   ],
   "source": [
    "#Q3\n",
    "\n",
    "for i in range(0,5):\n",
    "    for j in range(0,i+1):\n",
    "        print(\"*\",end=\" \")\n",
    "    print(\"\\n\")\n",
    "    \n",
    "for i in range(5,0,-1):\n",
    "    for j in range(0,i-1):\n",
    "        print(\"*\",end=\" \")\n",
    "    print(\"\\n\")\n",
    "        \n",
    "  "
   ]
  },
  {
   "cell_type": "code",
   "execution_count": null,
   "id": "a1b55ee6",
   "metadata": {},
   "outputs": [],
   "source": [
    "#Q4\n",
    "x=str(input(\"Enter a word = \"))\n"
   ]
  },
  {
   "cell_type": "code",
   "execution_count": null,
   "id": "59ce7b6a",
   "metadata": {},
   "outputs": [],
   "source": [
    "#Q5\n",
    "x=[23,34,45,56,11,22,33,55,46,77]\n",
    "for i in range(0,x):\n",
    "    if(x%2==1):\n",
    "        print('odd')\n",
    "    else(x%2==0):\n",
    "        print('even')\n",
    "    \n",
    "    \n",
    "    #incomplete program\n",
    "\n",
    "    \n",
    "\n"
   ]
  },
  {
   "cell_type": "code",
   "execution_count": 75,
   "id": "394dd9b3",
   "metadata": {},
   "outputs": [
    {
     "name": "stdout",
     "output_type": "stream",
     "text": [
      "0\n",
      "1\n",
      "2\n",
      "4\n",
      "5\n"
     ]
    }
   ],
   "source": [
    "#Q7\n",
    "for i in range(0,6):\n",
    "    if(i!=3 and i!=6):\n",
    "        print(i)"
   ]
  },
  {
   "cell_type": "code",
   "execution_count": null,
   "id": "8926fb1b",
   "metadata": {},
   "outputs": [],
   "source": []
  }
 ],
 "metadata": {
  "kernelspec": {
   "display_name": "Python 3",
   "language": "python",
   "name": "python3"
  },
  "language_info": {
   "codemirror_mode": {
    "name": "ipython",
    "version": 3
   },
   "file_extension": ".py",
   "mimetype": "text/x-python",
   "name": "python",
   "nbconvert_exporter": "python",
   "pygments_lexer": "ipython3",
   "version": "3.8.8"
  }
 },
 "nbformat": 4,
 "nbformat_minor": 5
}
