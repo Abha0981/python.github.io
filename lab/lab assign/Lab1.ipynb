{
 "cells": [
  {
   "cell_type": "code",
   "execution_count": 4,
   "metadata": {},
   "outputs": [
    {
     "name": "stdout",
     "output_type": "stream",
     "text": [
      "a =  12\n",
      "b =  24\n",
      "arithmetic operations\n",
      "a + b =  36\n",
      "a - b =  -12\n",
      "a * b =  288\n",
      "a / b =  0.5\n"
     ]
    }
   ],
   "source": [
    "#lab 1\n",
    "#ques 1\n",
    "a=int(input(\"enter first number\"))\n",
    "print(\"a = \",a)\n",
    "b=int(input(\"Enter second number\"))\n",
    "print(\"b = \",b)\n",
    "print(\"arithmetic operations\")\n",
    "print(\"a + b = \",a+b)\n",
    "print(\"a - b = \",a-b)\n",
    "print(\"a * b = \",a*b)\n",
    "print(\"a / b = \",a/b)"
   ]
  },
  {
   "cell_type": "code",
   "execution_count": 7,
   "metadata": {},
   "outputs": [
    {
     "name": "stdout",
     "output_type": "stream",
     "text": [
      "implementation of the (a+b)^2\n",
      "a =  1\n",
      "b =  2\n",
      "9\n",
      "implementation of the a^2-b^2\n",
      "-3\n"
     ]
    }
   ],
   "source": [
    "#ques 2 (a)\n",
    "print(\"implementation of the (a+b)^2\")\n",
    "a=int(input(\"Enter value of a\"))\n",
    "b=int(input(\"Enter value of b\"))\n",
    "print(\"a = \",a)\n",
    "print(\"b = \",b)\n",
    "c= a**2+b**2+2*a*b\n",
    "print(c)\n",
    "\n",
    "#ques 2(b)\n",
    "print(\"implementation of the a^2-b^2\")\n",
    "d= (a-b)*(a+b)\n",
    "print(d)"
   ]
  },
  {
   "cell_type": "code",
   "execution_count": 1,
   "metadata": {},
   "outputs": [
    {
     "name": "stdout",
     "output_type": "stream",
     "text": [
      "diameter of the sphere =  2\n",
      "Surface area of the sphere =  12.56\n",
      "Volume of the sphere =  4.1866666666666665\n"
     ]
    }
   ],
   "source": [
    "#ques 3\n",
    "r=int(input(\"Enter the radius of the sphere\"))\n",
    "print(\"diameter of the sphere = \",2*r)\n",
    "print(\"Surface area of the sphere = \",4*3.14*r*r)\n",
    "v=4/3*(3.14*r*r*r)\n",
    "print(\"Volume of the sphere = \",v)"
   ]
  },
  {
   "cell_type": "code",
   "execution_count": 2,
   "metadata": {},
   "outputs": [
    {
     "name": "stdout",
     "output_type": "stream",
     "text": [
      "radius =  1 height =  2\n",
      "circumference of the cylinder 6.28\n",
      "Curved surface area of the cylinder 12.56\n",
      "total surface of the cylinder 18.84\n"
     ]
    }
   ],
   "source": [
    "#ques 4\n",
    "r=int(input(\"Enter the radius of the cylinder\"))\n",
    "h=int(input(\"Enter the height of the cylinder\"))\n",
    "print(\"radius = \",r,\"height = \",h)\n",
    "print(\"circumference of the cylinder\",2*3.14*r)\n",
    "t=2*3.14*r*h\n",
    "print(\"Curved surface area of the cylinder\",t)\n",
    "print(\"total surface of the cylinder\",t+2*3.14*r)\n"
   ]
  },
  {
   "cell_type": "code",
   "execution_count": 2,
   "metadata": {},
   "outputs": [
    {
     "name": "stdout",
     "output_type": "stream",
     "text": [
      "Hello  Tiwari Abha\n"
     ]
    }
   ],
   "source": [
    "#Lab 2\n",
    "#q1\n",
    "fname = input(\"Input your First Name : \")\n",
    "lname = input(\"Input your Last Name : \")\n",
    "print (\"Hello  \" + lname + \" \" + fname)"
   ]
  },
  {
   "cell_type": "code",
   "execution_count": 3,
   "metadata": {},
   "outputs": [
    {
     "name": "stdout",
     "output_type": "stream",
     "text": [
      "12\n",
      "-10\n",
      "-30\n"
     ]
    }
   ],
   "source": [
    "#q2\n",
    "def add_without_plus_operator(a, b):\n",
    "    while b != 0:\n",
    "        data = a & b\n",
    "        a = a ^ b\n",
    "        b = data << 1\n",
    "    return a\n",
    "print(add_without_plus_operator(2, 10))\n",
    "print(add_without_plus_operator(-20, 10))\n",
    "print(add_without_plus_operator(-10, -20))"
   ]
  },
  {
   "cell_type": "code",
   "execution_count": 1,
   "metadata": {},
   "outputs": [
    {
     "name": "stdout",
     "output_type": "stream",
     "text": [
      "Twinkle, twinkle, little star,  \n",
      "        How I wonder what you are!  \n",
      "                Up above the world so high,\n",
      "                Like a diamond in the sky.  \n",
      "Twinkle, twinkle, little star,  \n",
      "        How I wonder what you are!\n"
     ]
    }
   ],
   "source": [
    "#Q3\n",
    "string = \"\"\"Twinkle, twinkle, little star,  \n",
    "        How I wonder what you are!  \n",
    "                Up above the world so high,\n",
    "                Like a diamond in the sky.  \n",
    "Twinkle, twinkle, little star,  \n",
    "        How I wonder what you are!\"\"\"\n",
    "print(string)\n"
   ]
  },
  {
   "cell_type": "code",
   "execution_count": 3,
   "metadata": {},
   "outputs": [
    {
     "name": "stdout",
     "output_type": "stream",
     "text": [
      "2583\n"
     ]
    }
   ],
   "source": [
    "#q4\n",
    "n=int(input())\n",
    "n=100*n+10*n+n\n",
    "n=str(n)\n",
    "a=int(n)\n",
    "b=int(n[:2])\n",
    "n=int(n[1])\n",
    "print(a+b+n)\n"
   ]
  },
  {
   "cell_type": "code",
   "execution_count": 4,
   "metadata": {},
   "outputs": [],
   "source": [
    "#lab 3"
   ]
  },
  {
   "cell_type": "code",
   "execution_count": 7,
   "metadata": {},
   "outputs": [
    {
     "name": "stdout",
     "output_type": "stream",
     "text": [
      "Average of 1, 2 and 3 is  2.0\n"
     ]
    }
   ],
   "source": [
    "#q2\n",
    "x, y, z = input(\"avg3: \").split()\n",
    "print(\"Average of \" + (x) + \", \" + (y) + \" and \" + (z) + \" is \" , (int(x)+int(y)+int(z))/3)"
   ]
  },
  {
   "cell_type": "code",
   "execution_count": 8,
   "metadata": {},
   "outputs": [
    {
     "name": "stdout",
     "output_type": "stream",
     "text": [
      "sum =  24.0 average =  3.0\n"
     ]
    }
   ],
   "source": [
    "#q1\n",
    "x=[1,2,3,3,4,2.3,3.4,5.3]\n",
    "s=sum(x)\n",
    "avg=s/len(x)\n",
    "print(\"sum = \",s,\"average = \",avg)"
   ]
  },
  {
   "cell_type": "code",
   "execution_count": 9,
   "metadata": {},
   "outputs": [
    {
     "name": "stdout",
     "output_type": "stream",
     "text": [
      "(12, 23, 3, 445, 45, 65, 43, 43, 434, 1, 2, 3, 4, 5, 6, 7)\n",
      "((12, 23, 3, 445, 45, 65, 43, 43, 434, 1, 2, 3, 4, 5, 6, 7), (12, 23, 3, 445, 45, 65, 43, 43, 434, 1, 2, 3, 4, 5, 6, 7))\n"
     ]
    }
   ],
   "source": [
    "#Q3\n",
    "x=(12,23,3,445,45,65,43,43,434)\n",
    "y=(1,2,3,4,5,6,7)\n",
    "z=x+y\n",
    "print(z)\n",
    "a=(z,)*2\n",
    "print(a)\n"
   ]
  },
  {
   "cell_type": "code",
   "execution_count": 10,
   "metadata": {},
   "outputs": [
    {
     "name": "stdout",
     "output_type": "stream",
     "text": [
      "No\n"
     ]
    }
   ],
   "source": [
    "#q4\n",
    "a=(1,2,3,4,5,6,7,7,8,9)\n",
    "b=int(input(\"enter number \"))\n",
    "if b in a:\n",
    "    print(\"Yes\")\n",
    "else:\n",
    "    print(\"No\")"
   ]
  },
  {
   "cell_type": "markdown",
   "metadata": {},
   "source": [
    "#lab 6"
   ]
  },
  {
   "cell_type": "code",
   "execution_count": 14,
   "metadata": {},
   "outputs": [
    {
     "name": "stdout",
     "output_type": "stream",
     "text": [
      "a =  1 b =  2 c =  3\n"
     ]
    },
    {
     "data": {
      "text/plain": [
       "3"
      ]
     },
     "execution_count": 14,
     "metadata": {},
     "output_type": "execute_result"
    }
   ],
   "source": [
    "#q1\n",
    "def findmax(a,b,c):\n",
    "    return max(c,max(a,b))\n",
    "a=int(input())\n",
    "b=int(input())\n",
    "c=int(input())\n",
    "print(\"a = \",a,\"b = \",b,\"c = \",c)\n",
    "findmax(a,b,c)"
   ]
  },
  {
   "cell_type": "code",
   "execution_count": 15,
   "metadata": {},
   "outputs": [
    {
     "name": "stdout",
     "output_type": "stream",
     "text": [
      "28\n"
     ]
    }
   ],
   "source": [
    "#q2\n",
    "a=[1,2,3,4,5,6,7]\n",
    "sum=0;\n",
    "for i in a:\n",
    "    sum=sum+i\n",
    "print(sum)"
   ]
  },
  {
   "cell_type": "code",
   "execution_count": 19,
   "metadata": {},
   "outputs": [
    {
     "name": "stdout",
     "output_type": "stream",
     "text": [
      "shiva\n",
      "avihs\n"
     ]
    }
   ],
   "source": [
    "#q3\n",
    "def rev(str):\n",
    "    return str[::-1]\n",
    "str=input()\n",
    "print(str)\n",
    "print(rev(str))"
   ]
  },
  {
   "cell_type": "code",
   "execution_count": 22,
   "metadata": {},
   "outputs": [
    {
     "name": "stdout",
     "output_type": "stream",
     "text": [
      "[1, 2, 3, 4, 5, 23, 6, 88, 787, 8, 65]\n"
     ]
    }
   ],
   "source": [
    "#q4\n",
    "def unique(q):\n",
    "    x=[]\n",
    "    for a in q:\n",
    "        if a not in x:\n",
    "            x.append(a)\n",
    "    return x\n",
    "\n",
    "print(unique([1,2,3,3,4,5,5,23,6,88,787,8,65,3]))"
   ]
  },
  {
   "cell_type": "markdown",
   "metadata": {},
   "source": [
    "#lab 7"
   ]
  },
  {
   "cell_type": "code",
   "execution_count": 23,
   "metadata": {},
   "outputs": [
    {
     "name": "stdout",
     "output_type": "stream",
     "text": [
      "2\n",
      "3\n",
      "4\n",
      "5\n",
      "6\n",
      "7\n",
      "8\n",
      "9\n"
     ]
    }
   ],
   "source": [
    "#q1\n",
    "def a(*args):\n",
    "    result = args[0]\n",
    "    for num in args:\n",
    "        print(num)\n",
    "\n",
    "a(2,3,4,5,6,7,8,9)"
   ]
  },
  {
   "cell_type": "code",
   "execution_count": 24,
   "metadata": {},
   "outputs": [
    {
     "name": "stdout",
     "output_type": "stream",
     "text": [
      "x =  5\n",
      "y =  1\n"
     ]
    }
   ],
   "source": [
    "#Q2\n",
    "def calculation(x,y):\n",
    "    return x+y, x-y\n",
    "x,y = calculation(3,2);\n",
    "print(\"x = \",x)\n",
    "print(\"y = \",y)"
   ]
  },
  {
   "cell_type": "code",
   "execution_count": 25,
   "metadata": {},
   "outputs": [
    {
     "name": "stdout",
     "output_type": "stream",
     "text": [
      "employee =  Shiv\n",
      "Salary =  3000\n",
      "employee =  Bhole\n",
      "Salary =  9000\n"
     ]
    }
   ],
   "source": [
    "#Q3\n",
    "def func(employee, salary = 9000):\n",
    "    print(\"employee = \",employee)\n",
    "    print(\"Salary = \",salary)\n",
    "func(\"Shiv\",3000)\n",
    "func(\"Bhole\")"
   ]
  },
  {
   "cell_type": "code",
   "execution_count": 26,
   "metadata": {},
   "outputs": [
    {
     "data": {
      "text/plain": [
       "9"
      ]
     },
     "execution_count": 26,
     "metadata": {},
     "output_type": "execute_result"
    }
   ],
   "source": [
    "#Q4\n",
    "def func(a,b):\n",
    "    def calcul(a,b):\n",
    "        return a+b\n",
    "    res =calcul(a,b) +5\n",
    "    return res\n",
    "func(2,2)"
   ]
  },
  {
   "cell_type": "markdown",
   "metadata": {},
   "source": [
    "#lab 8"
   ]
  },
  {
   "cell_type": "code",
   "execution_count": 28,
   "metadata": {},
   "outputs": [
    {
     "name": "stdout",
     "output_type": "stream",
     "text": [
      "time \n"
     ]
    }
   ],
   "source": [
    "#Q1\n",
    "f = open(\"Engineer.txt\",\"r\")\n",
    "content = f.read(5)\n",
    "print(content)\n",
    "f.close()\n"
   ]
  },
  {
   "cell_type": "code",
   "execution_count": 30,
   "metadata": {},
   "outputs": [
    {
     "name": "stdout",
     "output_type": "stream",
     "text": [
      "time is running very fast. No one is able to control their time and complete their assignments on time.\n",
      "\n"
     ]
    }
   ],
   "source": [
    "#q2\n",
    "f = open(\"Engineer.txt\",\"r\")\n",
    "print(f.readline())\n",
    "f.close()\n"
   ]
  },
  {
   "cell_type": "code",
   "execution_count": 31,
   "metadata": {},
   "outputs": [
    {
     "name": "stdout",
     "output_type": "stream",
     "text": [
      "number of lines in data.text 3\n"
     ]
    }
   ],
   "source": [
    "#Q3\n",
    "f = open(\"Engineer.txt\",\"r\")\n",
    "a = 0\n",
    "for i in f:\n",
    "    a=a+1\n",
    "\n",
    "print('number of lines in Engineer.txt is', a)\n",
    "f.close() \n"
   ]
  },
  {
   "cell_type": "code",
   "execution_count": 33,
   "metadata": {},
   "outputs": [
    {
     "name": "stdout",
     "output_type": "stream",
     "text": [
      "data recored in the file\n"
     ]
    }
   ],
   "source": [
    "#Q4\n",
    "f = open(\"Engineer.txt\",\"w\")\n",
    "nameList = []\n",
    "\n",
    "for i in range(5):\n",
    "    nameList.append(input(\"Enter the name \"))\n",
    "\n",
    "for i in nameList:\n",
    "    f.write(i)\n",
    "    f.write(' ')\n",
    "\n",
    "f.close()\n",
    "\n"
   ]
  },
  {
   "cell_type": "markdown",
   "metadata": {},
   "source": [
    "#lab 9"
   ]
  },
  {
   "cell_type": "code",
   "execution_count": 2,
   "metadata": {},
   "outputs": [
    {
     "name": "stdout",
     "output_type": "stream",
     "text": [
      "220 10000\n"
     ]
    }
   ],
   "source": [
    "#a)\n",
    "class Vehicle:\n",
    "    def __init__(self, max_speed, mileage):\n",
    "        self.max_speed = max_speed\n",
    "        self.mileage = mileage\n",
    "\n",
    "car = Vehicle(220,10000)\n",
    "print(car.max_speed, car.mileage)"
   ]
  },
  {
   "cell_type": "code",
   "execution_count": 3,
   "metadata": {},
   "outputs": [
    {
     "name": "stdout",
     "output_type": "stream",
     "text": [
      "Vehicle Name:  School Volvo Speed:  180 Mileage:  12\n"
     ]
    }
   ],
   "source": [
    "# b)\n",
    "class Veh:\n",
    "    def __init__(self, name, max_speed, mileage):\n",
    "        self.name = name\n",
    "        self.max_speed = max_speed\n",
    "        self.mileage = mileage\n",
    "\n",
    "class Bus(Veh):\n",
    "    pass\n",
    "\n",
    "school_bus = Bus(\"School Volvo\", 180, 12)\n",
    "print(\"Vehicle Name: \", school_bus.name, \"Speed: \",school_bus.max_speed,\"Mileage: \", school_bus.mileage)"
   ]
  },
  {
   "cell_type": "code",
   "execution_count": 6,
   "metadata": {},
   "outputs": [
    {
     "data": {
      "text/plain": [
       "'The seating capacity of a school bus is 50 passengers'"
      ]
     },
     "execution_count": 6,
     "metadata": {},
     "output_type": "execute_result"
    }
   ],
   "source": [
    "# c)\n",
    "class Vehicle:\n",
    "    def __init__(self,name, max_speed, mileage):\n",
    "        self.name = name\n",
    "        self.max_speed = max_speed\n",
    "        self.mileage = mileage\n",
    "\n",
    "    def seating_capacity(self, capacity):\n",
    "        return f\"The seating capacity of a {self.name} is {capacity} passengers\"\n",
    "\n",
    "class bus(Vehicle):\n",
    "    def seating_capacity(self, capacity=50):\n",
    "        return f\"The seating capacity of a {self.name} is {capacity} passengers\"\n",
    "bus(\"school bus\", 120, 2990).seating_capacity()   \n"
   ]
  },
  {
   "cell_type": "code",
   "execution_count": 8,
   "metadata": {},
   "outputs": [
    {
     "name": "stdout",
     "output_type": "stream",
     "text": [
      "white School volvo Speed :  180 mileage :  12\n",
      "white Audi Speed :  245 Mileage :  12\n"
     ]
    }
   ],
   "source": [
    "# d)\n",
    "class Vehicle:\n",
    "    color = \"white\"\n",
    "\n",
    "    def __init__(self, name, max_speed, mileage):\n",
    "        self.name = name\n",
    "        self.max_speed = max_speed\n",
    "        self.mileage = mileage\n",
    "\n",
    "class Bus(Vehicle):\n",
    "    pass\n",
    "\n",
    "class Car(Vehicle):\n",
    "    pass\n",
    "\n",
    "School_bus = Bus(\"School volvo\", 180, 12)\n",
    "print(School_bus.color, School_bus.name, \"Speed : \",School_bus.max_speed, \"mileage : \",School_bus.mileage)\n",
    "\n",
    "car = Car(\"Audi\", 245, 12)\n",
    "print(car.color, car.name,\"Speed : \",car.max_speed,\"Mileage : \",car.mileage)"
   ]
  },
  {
   "cell_type": "code",
   "execution_count": null,
   "metadata": {},
   "outputs": [],
   "source": [
    "#lab 10"
   ]
  },
  {
   "cell_type": "code",
   "execution_count": 9,
   "metadata": {},
   "outputs": [
    {
     "name": "stdout",
     "output_type": "stream",
     "text": [
      "['>time', '>is', '>running', '>oh', '>23']\n"
     ]
    }
   ],
   "source": [
    "#Q1\n",
    "import re\n",
    "s = \">time >is >running >oh<12 >23 >[a] >@ >& \"\n",
    "lit = re.findall(\">\\w+\",s)\n",
    "print (lit)\n"
   ]
  },
  {
   "cell_type": "code",
   "execution_count": 14,
   "metadata": {},
   "outputs": [
    {
     "name": "stdout",
     "output_type": "stream",
     "text": [
      "['mama@gmail.com']\n"
     ]
    }
   ],
   "source": [
    "#Q2\n",
    "import re\n",
    "a= '''mama@gmail.com Lorem ipsum\n",
    "Delhi of the capital of the country India\n",
    "whole country time is control by the standard meridian lies in the mirzapur'''\n",
    "lit = re.findall(\"\\S+@\\S+\",a)\n",
    "print(lit)"
   ]
  },
  {
   "cell_type": "code",
   "execution_count": 15,
   "metadata": {},
   "outputs": [
    {
     "name": "stdout",
     "output_type": "stream",
     "text": [
      "['mama@']\n"
     ]
    }
   ],
   "source": [
    "#q3\n",
    "import re\n",
    "\n",
    "a = \"mama@gmail.com mamaearth 234\"\n",
    "lit = re.findall(\"\\S+@\",a)\n",
    "print(lit)"
   ]
  },
  {
   "cell_type": "code",
   "execution_count": 16,
   "metadata": {},
   "outputs": [
    {
     "name": "stdout",
     "output_type": "stream",
     "text": [
      "['mama']\n"
     ]
    }
   ],
   "source": [
    "#q4\n",
    "import re\n",
    "a= '''mama@gmail.com Lorem ipsum\n",
    "Delhi of the capital of the country India\n",
    "whole country time is control by the standard meridian lies in the mirzapur'''\n",
    "lit = re.findall(\"(\\S+)@\",a)\n",
    "print(lit)"
   ]
  },
  {
   "cell_type": "code",
   "execution_count": null,
   "metadata": {},
   "outputs": [],
   "source": []
  }
 ],
 "metadata": {
  "interpreter": {
   "hash": "27d52a133f8de0e6cad041af15d11472a14b0c2d5106a07dc15f3f65d2a515fa"
  },
  "kernelspec": {
   "display_name": "Python 3.8.8 64-bit ('base': conda)",
   "language": "python",
   "name": "python3"
  },
  "language_info": {
   "codemirror_mode": {
    "name": "ipython",
    "version": 3
   },
   "file_extension": ".py",
   "mimetype": "text/x-python",
   "name": "python",
   "nbconvert_exporter": "python",
   "pygments_lexer": "ipython3",
   "version": "3.8.8"
  },
  "orig_nbformat": 4
 },
 "nbformat": 4,
 "nbformat_minor": 2
}
