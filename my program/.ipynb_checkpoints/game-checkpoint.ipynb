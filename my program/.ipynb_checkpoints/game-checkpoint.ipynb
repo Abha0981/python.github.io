{
 "cells": [
  {
   "cell_type": "code",
   "execution_count": 9,
   "id": "7a903e86",
   "metadata": {},
   "outputs": [
    {
     "name": "stdout",
     "output_type": "stream",
     "text": [
      "What is your name\n",
      "vijit\n",
      "well I have lots of things to say about you but where to start\n",
      "In a single line you are amazing, awesome, hardworking, best nature,loving , caring etc\n",
      "He is also an entrepreneur\n",
      "I beleive that you are agree with me\n",
      "YES\n",
      "write only yes or no\n",
      "\n",
      "\n",
      "\n",
      "\n"
     ]
    }
   ],
   "source": [
    "x=str(input(\"What is your name\\n\")).title()  #requires changes\n",
    "if x==\"Shreeji\":\n",
    "    print(\"get lost\\ntujhse badi chudail aaj tk nhi dekhi\")\n",
    "elif x=='Abha':\n",
    "    # print(\"You are brilliant\\nI'm speechless on your hardworking nature\")\n",
    "    print('Chal bhaag yahan se bevkoof\\nJab dekho aa jati hai muh utha kar')\n",
    "    y=str(input(\"Don't you think??\\n\"))\n",
    "    print(\"\\n\\n\\n\\n\")\n",
    "elif x=='Vijit':\n",
    "    print(\"well I have lots of things to say about you but where to start\\nIn a single line you are amazing, awesome, hardworking, best nature,loving , caring etc\\nHe is also an entrepreneur\")\n",
    "    v=str(input(\"I beleive that you are agree with me\\n\"))\n",
    "    if v=='yes'and'YES'and'Yes':\n",
    "        print(\"I know I'm right\")\n",
    "    elif v=='NO'and 'no'and'No':\n",
    "        print(\"OH GOD! what type of a person you are\\nyou don't have an idea what you typed \")\n",
    "    else:\n",
    "        print(\"write only yes or no\")\n",
    "    print(\"\\n\\n\\n\")\n",
    "elif x=='Abhi':\n",
    "    print(\"He is a founder of 'Prayagbhoomi blog'\\n He is also hardworking\\nOh I forgot to tell that his full name is Abhishek \")\n",
    "    print(\"\\n\\n\")\n",
    "else:\n",
    "    print(\"you are not my family\\n\\n\")"
   ]
  },
  {
   "cell_type": "code",
   "execution_count": null,
   "id": "c178c7a3",
   "metadata": {},
   "outputs": [],
   "source": []
  },
  {
   "cell_type": "code",
   "execution_count": null,
   "id": "ded001f4",
   "metadata": {},
   "outputs": [],
   "source": []
  }
 ],
 "metadata": {
  "kernelspec": {
   "display_name": "Python 3",
   "language": "python",
   "name": "python3"
  },
  "language_info": {
   "codemirror_mode": {
    "name": "ipython",
    "version": 3
   },
   "file_extension": ".py",
   "mimetype": "text/x-python",
   "name": "python",
   "nbconvert_exporter": "python",
   "pygments_lexer": "ipython3",
   "version": "3.8.8"
  }
 },
 "nbformat": 4,
 "nbformat_minor": 5
}
