{
 "cells": [
  {
   "cell_type": "markdown",
   "id": "7747b2d4",
   "metadata": {},
   "source": [
    "## 1. Python Data types"
   ]
  },
  {
   "cell_type": "markdown",
   "id": "ffdd2b9a",
   "metadata": {},
   "source": [
    "### 1. Numbers\n"
   ]
  },
  {
   "cell_type": "code",
   "execution_count": 1,
   "id": "929ae423",
   "metadata": {},
   "outputs": [
    {
     "name": "stdout",
     "output_type": "stream",
     "text": [
      "<class 'int'>\n",
      "<class 'float'>\n",
      "<class 'complex'>\n",
      "<class 'bool'>\n"
     ]
    }
   ],
   "source": [
    "# 1. integer 2. Boolean 3. complex 4. floating point\n",
    "a = 34\n",
    "b = 45.56\n",
    "c = 4 + 4j\n",
    "v = (a == c)\n",
    "print(type(a))\n",
    "print(type(b))\n",
    "print(type(c))\n",
    "print(type(v))"
   ]
  },
  {
   "cell_type": "markdown",
   "id": "ee48b06b",
   "metadata": {},
   "source": [
    "### 2. String"
   ]
  },
  {
   "cell_type": "code",
   "execution_count": 2,
   "id": "b9d004f1",
   "metadata": {},
   "outputs": [
    {
     "name": "stdout",
     "output_type": "stream",
     "text": [
      "<class 'str'>\n",
      "<class 'str'>\n",
      "True, Hello world this is the python basics\n"
     ]
    }
   ],
   "source": [
    "d = \"True\"\n",
    "e = 'Hello world this is the python basics'\n",
    "print(type(d))\n",
    "print(type(e))\n",
    "\n",
    "#concatenation\n",
    "print(d+\", \"+e)"
   ]
  },
  {
   "cell_type": "markdown",
   "id": "f908793c",
   "metadata": {},
   "source": [
    "### 3. List"
   ]
  },
  {
   "cell_type": "code",
   "execution_count": 3,
   "id": "e05dae6e",
   "metadata": {},
   "outputs": [
    {
     "name": "stdout",
     "output_type": "stream",
     "text": [
      "[2, 3.44, 0, True, 'Hello world']\n",
      "[3, 4.53, 1, False, ' Time is running']\n"
     ]
    }
   ],
   "source": [
    "a = [2,3.44,0, True,\"Hello world\"]\n",
    "print(a)\n",
    "b = [3,4.53,1,False,\" Time is running\"]\n",
    "print(b)"
   ]
  },
  {
   "cell_type": "code",
   "execution_count": 4,
   "id": "dd5578eb",
   "metadata": {},
   "outputs": [
    {
     "data": {
      "text/plain": [
       "True"
      ]
     },
     "execution_count": 4,
     "metadata": {},
     "output_type": "execute_result"
    }
   ],
   "source": [
    "a[3]"
   ]
  },
  {
   "cell_type": "code",
   "execution_count": 5,
   "id": "79ea5a71",
   "metadata": {},
   "outputs": [
    {
     "name": "stdout",
     "output_type": "stream",
     "text": [
      "[2, 3.44, 0, True, 'world']\n"
     ]
    },
    {
     "data": {
      "text/plain": [
       "float"
      ]
     },
     "execution_count": 5,
     "metadata": {},
     "output_type": "execute_result"
    }
   ],
   "source": [
    "a[4] = \"world\"\n",
    "print(a)\n",
    "type(a[1])"
   ]
  },
  {
   "cell_type": "code",
   "execution_count": 6,
   "id": "00fd205d",
   "metadata": {},
   "outputs": [
    {
     "name": "stdout",
     "output_type": "stream",
     "text": [
      "[2, 3.44, 0, True, 'world', 3, 4.53, 1, False, ' Time is running']\n"
     ]
    },
    {
     "data": {
      "text/plain": [
       "list"
      ]
     },
     "execution_count": 6,
     "metadata": {},
     "output_type": "execute_result"
    }
   ],
   "source": [
    "a+b\n",
    "print(a+b)\n",
    "type(a+b)"
   ]
  },
  {
   "cell_type": "markdown",
   "id": "4d454755",
   "metadata": {},
   "source": [
    "### 4. Tuple"
   ]
  },
  {
   "cell_type": "code",
   "execution_count": 7,
   "id": "1f9e63d0",
   "metadata": {},
   "outputs": [
    {
     "name": "stdout",
     "output_type": "stream",
     "text": [
      "[2, 3.44, 0, True, 'world']\n"
     ]
    }
   ],
   "source": [
    "b = (23,3.44,\"Hello Duniya\")          # Tuple is immutable. we cann't change it\n",
    "print(a)"
   ]
  },
  {
   "cell_type": "code",
   "execution_count": 8,
   "id": "d82e411a",
   "metadata": {},
   "outputs": [
    {
     "data": {
      "text/plain": [
       "23"
      ]
     },
     "execution_count": 8,
     "metadata": {},
     "output_type": "execute_result"
    }
   ],
   "source": [
    "b[0]"
   ]
  },
  {
   "cell_type": "code",
   "execution_count": 9,
   "id": "dab8a7eb",
   "metadata": {},
   "outputs": [
    {
     "data": {
      "text/plain": [
       "tuple"
      ]
     },
     "execution_count": 9,
     "metadata": {},
     "output_type": "execute_result"
    }
   ],
   "source": [
    "type(b)"
   ]
  },
  {
   "cell_type": "code",
   "execution_count": 10,
   "id": "70aea037",
   "metadata": {},
   "outputs": [
    {
     "data": {
      "text/plain": [
       "str"
      ]
     },
     "execution_count": 10,
     "metadata": {},
     "output_type": "execute_result"
    }
   ],
   "source": [
    "type(b[2])"
   ]
  },
  {
   "cell_type": "markdown",
   "id": "8c58ee00",
   "metadata": {},
   "source": [
    "### 5. Set"
   ]
  },
  {
   "cell_type": "code",
   "execution_count": 11,
   "id": "2c0361dc",
   "metadata": {},
   "outputs": [
    {
     "name": "stdout",
     "output_type": "stream",
     "text": [
      "{1, 2, 3, 4.45, 'Hello Duniya'}\n"
     ]
    }
   ],
   "source": [
    "d = {1,2,3,3,4.45,\"Hello Duniya\"}        # Set is immutable\n",
    "print(d)"
   ]
  },
  {
   "cell_type": "markdown",
   "id": "2a659d5a",
   "metadata": {},
   "source": [
    "### 6. Dictionary "
   ]
  },
  {
   "cell_type": "code",
   "execution_count": 12,
   "id": "736828bb",
   "metadata": {},
   "outputs": [
    {
     "name": "stdout",
     "output_type": "stream",
     "text": [
      "{1: 'Hello', 2: 'Namaste', 3: 'Hola'}\n"
     ]
    }
   ],
   "source": [
    "e = {1:\"Hello\", 2:\"Namaste\", 3:\"Hola\"}\n",
    "print(e)"
   ]
  },
  {
   "cell_type": "code",
   "execution_count": 13,
   "id": "9dd40fa7",
   "metadata": {},
   "outputs": [
    {
     "data": {
      "text/plain": [
       "'Namaste'"
      ]
     },
     "execution_count": 13,
     "metadata": {},
     "output_type": "execute_result"
    }
   ],
   "source": [
    "e[2]"
   ]
  },
  {
   "cell_type": "markdown",
   "id": "bb27a53f",
   "metadata": {},
   "source": [
    "## 2. Conditional Statements\n",
    "#### 1. if\n",
    "#### 2. if-else\n",
    "#### 3. if-elif-else"
   ]
  },
  {
   "cell_type": "code",
   "execution_count": 14,
   "id": "a4ba3b4c",
   "metadata": {},
   "outputs": [
    {
     "name": "stdout",
     "output_type": "stream",
     "text": [
      "Enter any sentence 78\n",
      "Enter any number 89\n"
     ]
    }
   ],
   "source": [
    "ab = (input(\"Enter any sentence \"))\n",
    "abc = int(input(\"Enter any number \"))"
   ]
  },
  {
   "cell_type": "code",
   "execution_count": 15,
   "id": "fa9b5870",
   "metadata": {},
   "outputs": [
    {
     "name": "stdout",
     "output_type": "stream",
     "text": [
      "Enter any number between 0 and 10034\n",
      "Needs improvement\n"
     ]
    }
   ],
   "source": [
    "z = int(input(\"Enter any number between 0 and 100\"))\n",
    "if z>=80:\n",
    "    print(\"Good\")\n",
    "elif z>=60 and z<80:\n",
    "    print(\"Okay\")\n",
    "else:\n",
    "    print(\"Needs improvement\")"
   ]
  },
  {
   "cell_type": "code",
   "execution_count": 16,
   "id": "bac7c98b",
   "metadata": {},
   "outputs": [
    {
     "name": "stdout",
     "output_type": "stream",
     "text": [
      "Enter any number 5\n",
      "NUMBER is odd and less than 50 \n"
     ]
    }
   ],
   "source": [
    " s = int(input(\"Enter any number \"))\n",
    "if s>=50:\n",
    "    if s%2 == 0:\n",
    "        print(\"Number is even and greater than 50\")\n",
    "    else:\n",
    "        print(\"Number is not even and greater than 50\")\n",
    "else:\n",
    "    if s%2 == 1:\n",
    "        print(\"NUMBER is odd and less than 50 \")\n",
    "    else:\n",
    "        print(\"Number is not odd and less than 50 \")"
   ]
  },
  {
   "cell_type": "code",
   "execution_count": 17,
   "id": "24e0d2a3",
   "metadata": {},
   "outputs": [
    {
     "name": "stdout",
     "output_type": "stream",
     "text": [
      "Enter any number between 0 and 100 :543\n",
      "Good\n"
     ]
    }
   ],
   "source": [
    "z = int(input(\"Enter any number between 0 and 100 :\"))\n",
    "if z>=80:\n",
    "    print(\"Good\")\n",
    "if z>=60 and z<80:\n",
    "    print(\"Okay\")"
   ]
  },
  {
   "cell_type": "markdown",
   "id": "6a14427d",
   "metadata": {},
   "source": [
    "## 3. Iterative Statements\n",
    "#### 1. for loop\n",
    "#### 2. while loop"
   ]
  },
  {
   "cell_type": "code",
   "execution_count": 18,
   "id": "bed392c1",
   "metadata": {},
   "outputs": [
    {
     "name": "stdout",
     "output_type": "stream",
     "text": [
      "h\n",
      "e\n",
      "l\n",
      "l\n",
      "o\n",
      " \n",
      "W\n",
      "o\n",
      "r\n",
      "l\n",
      "d\n"
     ]
    }
   ],
   "source": [
    "a = \"hello World\"\n",
    "for i in a:\n",
    "    print(i)"
   ]
  },
  {
   "cell_type": "code",
   "execution_count": 19,
   "id": "c08d8437",
   "metadata": {},
   "outputs": [
    {
     "name": "stdout",
     "output_type": "stream",
     "text": [
      "0\n",
      "2\n",
      "4\n",
      "6\n",
      "8\n",
      "10\n",
      "12\n",
      "14\n",
      "16\n",
      "18\n"
     ]
    }
   ],
   "source": [
    "for i in range(0,20,2):\n",
    "    print(i)"
   ]
  },
  {
   "cell_type": "code",
   "execution_count": 5,
   "id": "d0124675",
   "metadata": {},
   "outputs": [
    {
     "name": "stdout",
     "output_type": "stream",
     "text": [
      "Enter any number: 3\n",
      "factorial of 3 is: 2\n"
     ]
    }
   ],
   "source": [
    "# factorial of 10\n",
    "a = int(input(\"Enter any number: \"))\n",
    "p = 1\n",
    "for i in range(1,a+1,1):\n",
    "    p = i*p\n",
    "print(\"factorial of\",a,\"is:\",p)"
   ]
  },
  {
   "cell_type": "code",
   "execution_count": 21,
   "id": "6d92ca9a",
   "metadata": {},
   "outputs": [
    {
     "name": "stdout",
     "output_type": "stream",
     "text": [
      "4\n"
     ]
    }
   ],
   "source": [
    "i = 4\n",
    "while i>3:\n",
    "    print(i)\n",
    "    i = i-1"
   ]
  },
  {
   "cell_type": "markdown",
   "id": "2b34453e",
   "metadata": {},
   "source": [
    "## 4. Functions"
   ]
  },
  {
   "cell_type": "code",
   "execution_count": 67,
   "id": "3ee87903",
   "metadata": {},
   "outputs": [
    {
     "name": "stdout",
     "output_type": "stream",
     "text": [
      "factorial:  6\n"
     ]
    }
   ],
   "source": [
    "# factorial through functions\n",
    "def fact (a):\n",
    "    p = 1\n",
    "    for i in range(1,a+1,1):\n",
    "        p = i*p\n",
    "    return p\n",
    "print(\"factorial: \",fact(3))"
   ]
  },
  {
   "cell_type": "code",
   "execution_count": 42,
   "id": "55d77cfc",
   "metadata": {},
   "outputs": [
    {
     "name": "stdout",
     "output_type": "stream",
     "text": [
      "Enter value of n: 4\n",
      "Enter value of r (always remember r is smaller than n): 2\n",
      "Combination:  6.0\n"
     ]
    }
   ],
   "source": [
    "# permutation and combination problem\n",
    "# n!and r! n!/r!*(n-r)!\n",
    "n = int(input(\"Enter value of n: \"))\n",
    "r = int(input('''Enter value of r (always remember r is smaller than n): ''' ))\n",
    "fact_n = 1\n",
    "for i in range(1,n+1,1):\n",
    "    fact_n = i*fact_n\n",
    "    \n",
    "fact_r = 1    \n",
    "for i in range(1,r+1,1):\n",
    "    fact_r = i*fact_r\n",
    "    \n",
    "fact_n_r = 1\n",
    "for i in range(1,(n-r)+1,1):\n",
    "    fact_n_r = i*fact_n_r\n",
    "    \n",
    "comb = fact_n/(fact_r * fact_n_r)\n",
    "print(\"Combination: \" ,comb)"
   ]
  },
  {
   "cell_type": "code",
   "execution_count": 68,
   "id": "4971bd00",
   "metadata": {},
   "outputs": [
    {
     "name": "stdout",
     "output_type": "stream",
     "text": [
      "combination:  6.0\n"
     ]
    }
   ],
   "source": [
    "#combination through functions\n",
    "def factorial(value):\n",
    "    fact = 1\n",
    "    for i in range(1,value+1):\n",
    "        fact = i*fact\n",
    "    return fact\n",
    "\n",
    "comb = factorial(n)/(factorial(r) * factorial(n-r))\n",
    "n = 4\n",
    "r = 2\n",
    "print(\"combination: \",comb)"
   ]
  },
  {
   "cell_type": "code",
   "execution_count": 70,
   "id": "bb2cb7f9",
   "metadata": {},
   "outputs": [
    {
     "name": "stdout",
     "output_type": "stream",
     "text": [
      "Enter any positive value for n: 4\n",
      "Enter any positive value for r: 2\n",
      "combination 6.0\n"
     ]
    }
   ],
   "source": [
    "#user defined function for function\n",
    "def factorial(value):\n",
    "    fact = 1\n",
    "    for i in range(1,value+1):\n",
    "        fact = i*fact\n",
    "    return fact\n",
    "n=int(input(\"Enter any positive value for n: \"))\n",
    "r=int(input(\"Enter any positive value for r: \"))\n",
    "\n",
    "cobination = factorial(n)/(factorial(r)*factorial(n-r))\n",
    "print(\"combination\",cobination)"
   ]
  },
  {
   "cell_type": "code",
   "execution_count": null,
   "id": "a987ce20",
   "metadata": {},
   "outputs": [],
   "source": []
  }
 ],
 "metadata": {
  "kernelspec": {
   "display_name": "Python 3",
   "language": "python",
   "name": "python3"
  },
  "language_info": {
   "codemirror_mode": {
    "name": "ipython",
    "version": 3
   },
   "file_extension": ".py",
   "mimetype": "text/x-python",
   "name": "python",
   "nbconvert_exporter": "python",
   "pygments_lexer": "ipython3",
   "version": "3.8.8"
  }
 },
 "nbformat": 4,
 "nbformat_minor": 5
}
