{
 "cells": [
  {
   "cell_type": "code",
   "execution_count": 7,
   "id": "ce844066",
   "metadata": {},
   "outputs": [
    {
     "name": "stdout",
     "output_type": "stream",
     "text": [
      "* * * * * "
     ]
    }
   ],
   "source": [
    "for i in range(0,5):\n",
    "    print(\"*\", end=\" \")\n",
    "    \n"
   ]
  },
  {
   "cell_type": "code",
   "execution_count": 1,
   "id": "34c5248c",
   "metadata": {},
   "outputs": [
    {
     "name": "stdout",
     "output_type": "stream",
     "text": [
      "*  \n",
      "* *  \n",
      "* * *  \n",
      "* * * *  \n",
      "* * * * *  \n"
     ]
    }
   ],
   "source": [
    "row = 5\n",
    "for i in range(1,row+1):\n",
    "    for j in range(1,i+1):\n",
    "        print(\"*\",end=\" \")\n",
    "    print(\" \")\n"
   ]
  },
  {
   "cell_type": "code",
   "execution_count": 1,
   "id": "cae654a1",
   "metadata": {},
   "outputs": [
    {
     "name": "stdout",
     "output_type": "stream",
     "text": [
      "* \n",
      "* * \n",
      "* * * \n",
      "* * * * \n",
      "* * * * * \n",
      "* * * * * * \n",
      "* * * * * * * \n"
     ]
    }
   ],
   "source": [
    "a =int(input(\"Enter the number of the rows of the pattern\"))\n",
    "i = 1\n",
    "while i<=a:                 # based on the input value of the row\n",
    "    j= 1                    # left side right angle triangle\n",
    "    while j<=i:\n",
    "        print(\"*\",end = \" \")\n",
    "        j=j+1\n",
    "    print()\n",
    "    i=i+1"
   ]
  },
  {
   "cell_type": "code",
   "execution_count": 2,
   "id": "011d8f3e",
   "metadata": {},
   "outputs": [
    {
     "name": "stdout",
     "output_type": "stream",
     "text": [
      "* * * * * * * * * \n",
      "* * * * * * * * \n",
      "* * * * * * * \n",
      "* * * * * * \n",
      "* * * * * \n",
      "* * * * \n",
      "* * * \n",
      "* * \n",
      "* \n"
     ]
    }
   ],
   "source": [
    "a = int(input(\"Enter the rows of the pattern = \"))\n",
    "i=a\n",
    "while i>=1:\n",
    "    j=1                        # based on the input value of the row\n",
    "    while j<=i:                # left side inverted right angle triangle\n",
    "        print(\"*\", end = \" \")\n",
    "        j=j+1\n",
    "    print()\n",
    "    i=i-1"
   ]
  },
  {
   "cell_type": "code",
   "execution_count": 3,
   "id": "344bed67",
   "metadata": {},
   "outputs": [
    {
     "name": "stdout",
     "output_type": "stream",
     "text": [
      "1 \n",
      "2 2 \n",
      "3 3 3 \n",
      "4 4 4 4 \n",
      "5 5 5 5 5 \n",
      "6 6 6 6 6 6 \n",
      "7 7 7 7 7 7 7 \n",
      "8 8 8 8 8 8 8 8 \n",
      "9 9 9 9 9 9 9 9 9 \n"
     ]
    }
   ],
   "source": [
    "a =int(input(\"Enter the number of the rows of the pattern\"))\n",
    "i = 1\n",
    "while i<=a:                 # based on the input value of the row\n",
    "    j= 1                    # left side right angle triangle\n",
    "    while j<=i:\n",
    "        print(i,end = \" \")\n",
    "        j=j+1\n",
    "    print()\n",
    "    i=i+1"
   ]
  },
  {
   "cell_type": "code",
   "execution_count": 4,
   "id": "9c99b8c2",
   "metadata": {},
   "outputs": [
    {
     "name": "stdout",
     "output_type": "stream",
     "text": [
      "1 \n",
      "1 2 \n",
      "1 2 3 \n",
      "1 2 3 4 \n",
      "1 2 3 4 5 \n",
      "1 2 3 4 5 6 \n",
      "1 2 3 4 5 6 7 \n",
      "1 2 3 4 5 6 7 8 \n",
      "1 2 3 4 5 6 7 8 9 \n"
     ]
    }
   ],
   "source": [
    "a =int(input(\"Enter the number of the rows of the pattern\"))\n",
    "i = 1\n",
    "while i<=a:                 # based on the input value of the row\n",
    "    j= 1                    # left side right angle triangle\n",
    "    while j<=i:\n",
    "        print(j,end = \" \")\n",
    "        j=j+1\n",
    "    print()\n",
    "    i=i+1"
   ]
  },
  {
   "cell_type": "code",
   "execution_count": 1,
   "id": "0df5b8c0",
   "metadata": {},
   "outputs": [
    {
     "name": "stdout",
     "output_type": "stream",
     "text": [
      "5 5 5 5 5 \n",
      "4 4 4 4 \n",
      "3 3 3 \n",
      "2 2 \n",
      "1 \n"
     ]
    }
   ],
   "source": [
    "a=int(input(\"Enter the number of row = \"))\n",
    "i=a\n",
    "while i>=1:                         # based on the input value of the row\n",
    "    j=1                             # left side inverted right angle triangle\n",
    "    while j<=i:\n",
    "        print(i,end = \" \")\n",
    "        j=j+1\n",
    "    print()\n",
    "    i=i-1"
   ]
  },
  {
   "cell_type": "code",
   "execution_count": 2,
   "id": "f88459fa",
   "metadata": {},
   "outputs": [
    {
     "name": "stdout",
     "output_type": "stream",
     "text": [
      "1 2 3 4 5 \n",
      "1 2 3 4 \n",
      "1 2 3 \n",
      "1 2 \n",
      "1 \n"
     ]
    }
   ],
   "source": [
    "a=int(input(\"Enter the number of row = \"))\n",
    "i=a\n",
    "while i>=1:                         # based on the input value of the row\n",
    "    j=1                             # left side inverted right angle triangle\n",
    "    while j<=i:\n",
    "        print(j,end = \" \")\n",
    "        j=j+1\n",
    "    print()\n",
    "    i=i-1"
   ]
  },
  {
   "cell_type": "code",
   "execution_count": 24,
   "id": "3d8a31c7",
   "metadata": {},
   "outputs": [
    {
     "name": "stdout",
     "output_type": "stream",
     "text": [
      "0 4 "
     ]
    }
   ],
   "source": [
    "for x in range(0,6,4):\n",
    "    print(x,end=\" \")"
   ]
  },
  {
   "cell_type": "code",
   "execution_count": 25,
   "id": "daf57a24",
   "metadata": {},
   "outputs": [
    {
     "name": "stdout",
     "output_type": "stream",
     "text": [
      "\n",
      "* \n",
      "* * \n",
      "* * * \n",
      "* * * * \n",
      "* * * * * \n"
     ]
    }
   ],
   "source": [
    "for i in range(6):\n",
    "    for j in range(i):      #left side right angle triangle by for loop\n",
    "        print(\"*\", end = \" \")\n",
    "    print()"
   ]
  },
  {
   "cell_type": "code",
   "execution_count": 1,
   "id": "5ecbbd7c",
   "metadata": {},
   "outputs": [
    {
     "name": "stdout",
     "output_type": "stream",
     "text": [
      "\n",
      "* \n",
      "* * \n",
      "* * * \n",
      "* * * * \n",
      "* * * * * \n"
     ]
    }
   ],
   "source": [
    "row = int(input(\"Enter the no. of rows = \"))\n",
    "for i in range(row +1):\n",
    "    for j in range(i):\n",
    "        print(\"*\", end = \" \")\n",
    "    print()"
   ]
  },
  {
   "cell_type": "code",
   "execution_count": 5,
   "id": "046011d3",
   "metadata": {},
   "outputs": [
    {
     "name": "stdout",
     "output_type": "stream",
     "text": [
      "* * * * * * \n",
      "* * * * * \n",
      "* * * * \n",
      "* * * \n",
      "* * \n",
      "* \n"
     ]
    }
   ],
   "source": [
    "for i in range(6,0,-1):\n",
    "    for j in range(i):\n",
    "        j=j+1                   #inverted right angle triangle left side\n",
    "        print(\"*\", end=\" \")\n",
    "    print()\n",
    "    i=i-1"
   ]
  },
  {
   "cell_type": "code",
   "execution_count": 3,
   "id": "1eead918",
   "metadata": {},
   "outputs": [
    {
     "name": "stdout",
     "output_type": "stream",
     "text": [
      "* * * * * \n",
      "* * * * * \n",
      "* * * * * \n",
      "* * * * * \n"
     ]
    }
   ],
   "source": [
    "l = int(input(\"Enter length of the rectangle = \"))\n",
    "b = int(input(\"Enter the breadth of the rectangle = \"))\n",
    "for i in range(l):\n",
    "    for j in range(b):      #code for the rectangle \n",
    "        print(\"*\",end=\" \")\n",
    "    print()"
   ]
  },
  {
   "cell_type": "code",
   "execution_count": 20,
   "id": "6832e04b",
   "metadata": {},
   "outputs": [
    {
     "name": "stdout",
     "output_type": "stream",
     "text": [
      "\n",
      "\n",
      "\n",
      "\n",
      "\n",
      "\n",
      "* * * * * * \n",
      "* * * * * * \n",
      "* * * * * * \n",
      "* * * * * * \n",
      "* * * * * * \n",
      "\n",
      "* * * * * * * * * * * * \n",
      "* * * * * * * * * * * * \n",
      "* * * * * * * * * * * * \n",
      "* * * * * * * * * * * * \n",
      "* * * * * * * * * * * * \n",
      "\n",
      "* * * * * * * * * * * * * * * * * * \n",
      "* * * * * * * * * * * * * * * * * * \n",
      "* * * * * * * * * * * * * * * * * * \n",
      "* * * * * * * * * * * * * * * * * * \n",
      "* * * * * * * * * * * * * * * * * * \n",
      "\n",
      "* * * * * * * * * * * * * * * * * * * * * * * * \n",
      "* * * * * * * * * * * * * * * * * * * * * * * * \n",
      "* * * * * * * * * * * * * * * * * * * * * * * * \n",
      "* * * * * * * * * * * * * * * * * * * * * * * * \n",
      "* * * * * * * * * * * * * * * * * * * * * * * * \n",
      "\n",
      "\n"
     ]
    }
   ],
   "source": [
    "for i in range(5):\n",
    "    for j in range(5):\n",
    "        for a in range(6,0,-1):\n",
    "            for b in range(i):\n",
    "                b=b+1  \n",
    "                print(\"*\",end=\" \")  \n",
    "        a=a-1\n",
    "        print()\n",
    "    print()\n",
    "print()"
   ]
  },
  {
   "cell_type": "code",
   "execution_count": 1,
   "id": "949ad77a",
   "metadata": {},
   "outputs": [
    {
     "name": "stdout",
     "output_type": "stream",
     "text": [
      "          * \n",
      "        * * \n",
      "      * * * \n",
      "    * * * * \n",
      "  * * * * * \n"
     ]
    }
   ],
   "source": [
    "rows = int(input(\"Enter no. of the rows\"))\n",
    "\n",
    "for i in range(1, rows+1):\n",
    "    for j in range(rows+1, 0, -1):\n",
    "        if j > i:\n",
    "            print(\" \", end=\" \")\n",
    "        else:\n",
    "            print(\"*\", end=\" \")\n",
    "    print()"
   ]
  },
  {
   "cell_type": "code",
   "execution_count": 28,
   "id": "390de3d6",
   "metadata": {},
   "outputs": [
    {
     "data": {
      "text/plain": [
       "(0, 2, 4, 6, 8)"
      ]
     },
     "execution_count": 28,
     "metadata": {},
     "output_type": "execute_result"
    }
   ],
   "source": [
    "tuple(range(0,10,2))"
   ]
  },
  {
   "cell_type": "code",
   "execution_count": 5,
   "id": "9882840a",
   "metadata": {},
   "outputs": [
    {
     "name": "stdout",
     "output_type": "stream",
     "text": [
      "      * \n",
      "     * * \n",
      "    * * * \n",
      "   * * * * \n",
      "  * * * * * \n",
      " * * * * * * \n"
     ]
    }
   ],
   "source": [
    "row= int(input(\"Enter the no. of the rows =\" ))\n",
    "for i in range(1,row+1):\n",
    "    for j in range(row+1,0,-1):     #pyramid using right angle triangle formula\n",
    "        if j>i:\n",
    "            print(\" \",end=\"\")\n",
    "        else:\n",
    "            print(\"*\",end=\" \")\n",
    "    print()"
   ]
  },
  {
   "cell_type": "code",
   "execution_count": 9,
   "id": "a938d77d",
   "metadata": {},
   "outputs": [
    {
     "name": "stdout",
     "output_type": "stream",
     "text": [
      "      2 \n",
      "     4 6 \n",
      "    8 10 12 \n",
      "   14 16 18 20 \n",
      "  22 24 26 28 30 \n",
      " 32 34 36 38 40 42 \n"
     ]
    }
   ],
   "source": [
    "a = int(input(\"Enter any number = \"))\n",
    "n=1\n",
    "for i in range(1,a):\n",
    "    for j in range(a,0,-1):\n",
    "        if j>i:\n",
    "            print(\" \",end=\"\")\n",
    "        else:\n",
    "            print(n*2,end=\" \")      # in place of j*2, we can also use i*2\n",
    "            n=n+1      \n",
    "    print()"
   ]
  },
  {
   "cell_type": "code",
   "execution_count": 10,
   "id": "0e84eb62",
   "metadata": {},
   "outputs": [
    {
     "name": "stdout",
     "output_type": "stream",
     "text": [
      "     1 \n",
      "    3 5 \n",
      "   7 9 11 \n",
      "  13 15 17 19 \n",
      " 21 23 25 27 29 \n"
     ]
    }
   ],
   "source": [
    "n=1\n",
    "for i in range(1,6):\n",
    "    for j in range(6,0,-1):\n",
    "        if j>i:\n",
    "            print(\" \",end=\"\")\n",
    "        else:\n",
    "            print(2*n-1,end=\" \")\n",
    "            n=n+1\n",
    "    print()"
   ]
  },
  {
   "cell_type": "code",
   "execution_count": 16,
   "id": "0d763d50",
   "metadata": {},
   "outputs": [
    {
     "name": "stdout",
     "output_type": "stream",
     "text": [
      "     *\n",
      "    ***\n",
      "   *****\n",
      "  *******\n",
      " *********\n"
     ]
    }
   ],
   "source": [
    "k=0\n",
    "for i in range(1, 6):\n",
    "    for space in range(1, (6-i)+1):\n",
    "        print(end=\" \")\n",
    "   \n",
    "    while k!=(2*i-1):\n",
    "        print(\"*\", end=\"\")\n",
    "        k += 1\n",
    "   \n",
    "    k = 0\n",
    "    print()"
   ]
  },
  {
   "cell_type": "code",
   "execution_count": 22,
   "metadata": {},
   "outputs": [
    {
     "name": "stdout",
     "output_type": "stream",
     "text": [
      "          * \n",
      "        * * * \n",
      "      * * * * * \n",
      "    * * * * * * * \n",
      "  * * * * * * * * * \n"
     ]
    }
   ],
   "source": [
    "for i in range(1,6):\n",
    "    n=0\n",
    "    for j in range(1,(6-i)+1):\n",
    "        print(end=\"  \")         # odd pyramid\n",
    "    while n!= (2*i)-1:\n",
    "        print(\"* \",end=\"\")\n",
    "        n=n+1\n",
    "    \n",
    "    print()"
   ]
  },
  {
   "cell_type": "code",
   "execution_count": 6,
   "id": "cc036b42",
   "metadata": {},
   "outputs": [
    {
     "name": "stdout",
     "output_type": "stream",
     "text": [
      "        \n",
      "       *\n",
      "      * * \n",
      "    * * * * \n",
      "  * * * * * * \n"
     ]
    }
   ],
   "source": [
    "n = int(input('Enter any integer (for height of triangle): '))\n",
    "a = (n*2)\n",
    "\n",
    "for i in range(0,a,2):\n",
    "    print((a-i)*\" \",end=\"\")     # Made by Sikhu\n",
    "    for j in range(i):\n",
    "        print('*',end=\" \")\n",
    "    print()\n",
    "    if i==0:\n",
    "        print(\" \"*(a-1),'*',sep=\"\")"
   ]
  },
  {
   "cell_type": "code",
   "execution_count": 14,
   "id": "9e24f010",
   "metadata": {},
   "outputs": [
    {
     "name": "stdout",
     "output_type": "stream",
     "text": [
      "   * \n",
      "   * \n",
      "  * * \n",
      "  * * \n",
      " * * * \n",
      " * * * \n"
     ]
    }
   ],
   "source": [
    "for i in range(1,6+1):\n",
    "    for j in range(6+1,0,-2):     #bhurj khalifa\n",
    "        if j>i:\n",
    "            print(\" \",end=\"\")\n",
    "        else:\n",
    "            print(\"*\",end=\" \")\n",
    "    print()"
   ]
  },
  {
   "cell_type": "code",
   "execution_count": 9,
   "id": "14b8c447",
   "metadata": {},
   "outputs": [
    {
     "name": "stdout",
     "output_type": "stream",
     "text": [
      " * * ** \n",
      " * ** * \n",
      " ** * * \n"
     ]
    }
   ],
   "source": [
    "for i in range(1,6+1,2):\n",
    "    for j in range(6+1,0,-2):     \n",
    "        if j>i:\n",
    "            print(\" \",end=\"*\")\n",
    "        else:\n",
    "            print(\"*\",end=\" \")\n",
    "    print()"
   ]
  },
  {
   "cell_type": "code",
   "execution_count": 1,
   "id": "7b10110c",
   "metadata": {},
   "outputs": [
    {
     "name": "stdout",
     "output_type": "stream",
     "text": [
      "* * * * * \n",
      "* * * * \n",
      "* * * \n",
      "* * \n",
      "* \n",
      "\n"
     ]
    }
   ],
   "source": [
    "for i in range(1,6+1):\n",
    "    for j in range(1,(6-i)+1):\n",
    "        print(\"*\",end=\" \")\n",
    "    print()     \n",
    "        "
   ]
  },
  {
   "cell_type": "code",
   "execution_count": 8,
   "id": "b409a2a9",
   "metadata": {},
   "outputs": [
    {
     "name": "stdout",
     "output_type": "stream",
     "text": [
      "        *\n",
      "       * * \n",
      "     * * * * \n",
      "   * * * * * * \n"
     ]
    }
   ],
   "source": [
    "n = int(input('Enter any integer (for height of triangle): '))\n",
    "a = (n*2)\n",
    "\n",
    "for i in range(a,0,-2):    # step me jo rakhoge uski table chal jayegi\n",
    "    for j in range(i):\n",
    "        print(' ',end='')\n",
    "    \n",
    "    if i==a:                        # ye condition pehle wale single * ko print karane ke liye hai bas\n",
    "        print('*',end='')  \n",
    "    else:\n",
    "        print(' ',end='')           # ye condition baaki me starting ke equal space dene ke liye hai\n",
    "\n",
    "    for j in range(0,a-i):          # ye number of * print karne ke liye hai\n",
    "        print('*',end=' ')\n",
    "\n",
    "    print()"
   ]
  },
  {
   "cell_type": "code",
   "execution_count": 10,
   "id": "5098afae",
   "metadata": {},
   "outputs": [
    {
     "name": "stdout",
     "output_type": "stream",
     "text": [
      "\n",
      "1 \n",
      "2 3 \n",
      "4 5 6 \n",
      "7 8 9 10 \n"
     ]
    }
   ],
   "source": [
    "num = 1\n",
    "row = int(input(\"Enter the number of rows for the pyramid\"))\n",
    "for i in range(1,row+1):\n",
    "    for j in range(1,i):\n",
    "        print(num,end=\" \")\n",
    "        num = num+1\n",
    "    print()\n"
   ]
  },
  {
   "cell_type": "code",
   "execution_count": null,
   "id": "07030f95",
   "metadata": {},
   "outputs": [],
   "source": []
  }
 ],
 "metadata": {
  "kernelspec": {
   "display_name": "Python 3",
   "language": "python",
   "name": "python3"
  },
  "language_info": {
   "codemirror_mode": {
    "name": "ipython",
    "version": 3
   },
   "file_extension": ".py",
   "mimetype": "text/x-python",
   "name": "python",
   "nbconvert_exporter": "python",
   "pygments_lexer": "ipython3",
   "version": "3.8.8"
  }
 },
 "nbformat": 4,
 "nbformat_minor": 5
}
